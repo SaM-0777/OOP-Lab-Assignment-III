{
  "nbformat": 4,
  "nbformat_minor": 0,
  "metadata": {
    "colab": {
      "name": "Lab-Session_4.ipynb",
      "provenance": [],
      "collapsed_sections": [],
      "mount_file_id": "18Yj76K-wZIb4lQdRODoaGG3qMjB8s4nt",
      "authorship_tag": "ABX9TyMgIu7jOgJeNPrNtaRApNoe",
      "include_colab_link": true
    },
    "kernelspec": {
      "name": "python3",
      "display_name": "Python 3"
    },
    "language_info": {
      "name": "python"
    }
  },
  "cells": [
    {
      "cell_type": "markdown",
      "metadata": {
        "id": "view-in-github",
        "colab_type": "text"
      },
      "source": [
        "<a href=\"https://colab.research.google.com/github/Soumyaranjan2021/OOP-Lab-Assignment-III/blob/main/Lab_Session_4.ipynb\" target=\"_parent\"><img src=\"https://colab.research.google.com/assets/colab-badge.svg\" alt=\"Open In Colab\"/></a>"
      ]
    },
    {
      "cell_type": "markdown",
      "metadata": {
        "id": "7DKpv3Jelfe3"
      },
      "source": [
        "Problems on Inheritence"
      ]
    },
    {
      "cell_type": "code",
      "metadata": {
        "id": "TYc_FBO7jcR5",
        "colab": {
          "base_uri": "https://localhost:8080/"
        },
        "outputId": "88e6f683-e577-4e15-bcc7-eab58497eaff"
      },
      "source": [
        "##Problem 1\n",
        "\n",
        "class Student(object):\n",
        "  def Input(self):\n",
        "    self.Name = str(input(\"Student Name : \"))\n",
        "    self.Reg = str(input(\"Reg. No : \"))\n",
        "    self.Age = int(input(\"Age : \"))\n",
        "    self.Branch = str(input(\"Branch : \"))\n",
        "    self.sem = int(input(\"Semester : \"))\n",
        "  \n",
        "  def Show(self):\n",
        "    print(\"\\nStudent Information : \")\n",
        "    print(\"Student's Name : \", self.Name)\n",
        "    print(\"Student's Reg No : \", self.Reg)\n",
        "    print(\"Student's Age : \", self.Age)\n",
        "    print(\"Student's Branch : \", self.Branch)\n",
        "    print(\"Student's Semester : \", self.sem)\n",
        "\n",
        "class StudentRseInfor(Student):\n",
        "  def __init__(self):\n",
        "    self.Marks = 45\n",
        "    self.Percentage = 80.5\n",
        "    self.Grade = \"B\"\n",
        "  \n",
        "  def ShowBasicInfo(self):\n",
        "    print(\"Student's Marks : \", self.Marks)\n",
        "    print(\"Student's Percentage : \", self.Percentage)\n",
        "    print(\"Student's Grade : \", self.Grade)\n",
        "\n",
        "S = StudentRseInfor()\n",
        "S.Input()\n",
        "S.Show()\n",
        "S.ShowBasicInfo()"
      ],
      "execution_count": 4,
      "outputs": [
        {
          "output_type": "stream",
          "name": "stdout",
          "text": [
            "Student Name : Rohith\n",
            "Reg. No : 20cse141\n",
            "Age : 19\n",
            "Branch : CSE\n",
            "Semester : 3\n",
            "\n",
            "Student Information : \n",
            "Student's Name :  Rohith\n",
            "Student's Reg No :  20cse141\n",
            "Student's Age :  19\n",
            "Student's Branch :  CSE\n",
            "Student's Semester :  3\n",
            "Student's Marks :  45\n",
            "Student's Percentage :  80.5\n",
            "Student's Grade :  B\n"
          ]
        }
      ]
    },
    {
      "cell_type": "code",
      "metadata": {
        "colab": {
          "base_uri": "https://localhost:8080/"
        },
        "id": "Yd9l5wY0M5Te",
        "outputId": "a55dd6cc-cf80-4537-dfe0-7e2ac1f94d0a"
      },
      "source": [
        "class PDF(object):\n",
        "  def Input(self):\n",
        "    self.Doc_type = str(input(\"Document Type : \"))\n",
        "    self.Creator = str(input(\"Author : \"))\n",
        "    self.Description = str(input(\"Description : \"))\n",
        "    self.Filesize = float(input(\"File size in KB : \"))\n",
        "    if self.Doc_type == \"Picture\":\n",
        "      self.ImageDimension = str(input(\"Picture Dimension : \"))\n",
        "\n",
        "class Picture(PDF):\n",
        "  def ShowDetails(self):\n",
        "    print(\"\\nDocument Type : \", self.Doc_type)\n",
        "    print(\"Author : \", self.Creator)\n",
        "    print(\"Description : \", self.Description)\n",
        "    print(\"File size in KB : \", self.Filesize)\n",
        "    self.File_Size()\n",
        "    if self.Doc_type == \"Picture\":\n",
        "      print(\"Picture Dimension : \", self.ImageDimension)\n",
        "      self.Pic_Dimension()\n",
        "    print()\n",
        "\n",
        "  def File_Size(self):\n",
        "    if self.Filesize > 100:\n",
        "      print(self.Doc_type + \"is too large in size\\n\")\n",
        "  \n",
        "  def Pic_Dimension(self):\n",
        "    if self.Doc_type == \"Picture\":\n",
        "      Dimensions = self.ImageDimension.split(\"x\")\n",
        "      for D in Dimensions:\n",
        "        if float(D) > 1000:\n",
        "          print(\"\\nPicture Dimension is too large\")\n",
        "          break\n",
        "    else:\n",
        "      pass\n",
        "\n",
        "P = Picture()\n",
        "P.Input()\n",
        "P.ShowDetails()\n",
        "P.Input()\n",
        "P.ShowDetails()"
      ],
      "execution_count": 23,
      "outputs": [
        {
          "output_type": "stream",
          "name": "stdout",
          "text": [
            "Document Type : pdf\n",
            "Author : Rohith\n",
            "Description : This file contains lists of Student's Marks\n",
            "File size in KB : 60\n",
            "\n",
            "Document Type :  pdf\n",
            "Author :  Rohith\n",
            "Description :  This file contains lists of Student's Marks\n",
            "File size in KB :  60.0\n",
            "\n",
            "Document Type : Picture\n",
            "Author : Da Vinci\n",
            "Description : This file is a Picture of Monalisha\n",
            "File size in KB : 2096\n",
            "Picture Dimension : 1920 x 1080\n",
            "\n",
            "Document Type :  Picture\n",
            "Author :  Da Vinci\n",
            "Description :  This file is a Picture of Monalisha\n",
            "File size in KB :  2096.0\n",
            "Pictureis too large in size\n",
            "\n",
            "Picture Dimension :  1920 x 1080\n",
            "\n",
            "Picture Dimension is too large\n",
            "\n"
          ]
        }
      ]
    },
    {
      "cell_type": "code",
      "metadata": {
        "colab": {
          "base_uri": "https://localhost:8080/"
        },
        "id": "l3RMl2HqCSLm",
        "outputId": "f4221e96-74ad-4133-c73b-37b003c0ef17"
      },
      "source": [
        "##Problem 3\n",
        "\n",
        "class Vehicle(object):\n",
        "  def __init__(self):\n",
        "    self.Name = \"DefaultVehicle\"\n",
        "    self.Milage = 10.0\n",
        "    self.Capacity = 50\n",
        "  \n",
        "  def TotalFare(self, VehicleName):\n",
        "    self.Name = VehicleName\n",
        "    if self.Name == 'Bus':\n",
        "      return (self.Capacity * 100) + 0.1 * (self.Capacity * 100)\n",
        "    else:\n",
        "      return (self.Capacity * 100)\n",
        "\n",
        "class Bus(Vehicle):\n",
        "  def ShowFare(self):\n",
        "    print(\"Total Fare : \", self.TotalFare(\"Bus\"))\n",
        "\n",
        "B = Bus()\n",
        "B.ShowFare()"
      ],
      "execution_count": 12,
      "outputs": [
        {
          "output_type": "stream",
          "name": "stdout",
          "text": [
            "Total Fare :  5500.0\n"
          ]
        }
      ]
    }
  ]
}